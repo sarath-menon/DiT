{
 "cells": [
  {
   "cell_type": "code",
   "execution_count": 39,
   "metadata": {},
   "outputs": [],
   "source": [
    "import torch\n",
    "import torch.nn as nn\n",
    "from torchvision import transforms"
   ]
  },
  {
   "cell_type": "markdown",
   "metadata": {},
   "source": [
    "## Patch embedding"
   ]
  },
  {
   "cell_type": "code",
   "execution_count": 135,
   "metadata": {},
   "outputs": [],
   "source": [
    "class PatchEmbed(nn.Module):\n",
    "    \"\"\" 2D Image to Patch Embedding\n",
    "    \"\"\"\n",
    "    def __init__(self, H, W, patch_size=16, in_chans=3, embed_dim=100):\n",
    "        super().__init__()\n",
    "\n",
    "        self.num_patches = (H * W) // (patch_size ** 2)\n",
    "\n",
    "        # since we haveset kernel_size=stride=patch_size, the conv kernel acts on each indivial patch. The conv operation acts as a lienar embedding\n",
    "        self.conv = nn.Conv2d(in_chans, embed_dim, kernel_size=patch_size, stride=patch_size)\n",
    "\n",
    "    def forward(self, x):\n",
    "        x = self.conv(x)  #(B, C, H, W) -> (B, embed_dim, H, W)\n",
    "        x = x.flatten(2) #(B, embed_dim, H, W) -> (B, embed_dim, H*W)\n",
    "        x = x.transpose(1, 2) # (B, embed_dim, H*W) -> (B, H*W, embed_dim)\n",
    "\n",
    "        return x\n"
   ]
  },
  {
   "cell_type": "code",
   "execution_count": 141,
   "metadata": {},
   "outputs": [
    {
     "name": "stdout",
     "output_type": "stream",
     "text": [
      "Shape of the output from PatchEmbed: torch.Size([1, 196, 100])\n"
     ]
    }
   ],
   "source": [
    "from PIL import Image\n",
    "import torchvision.transforms.functional as TF\n",
    "\n",
    "image_tensor = torch.rand(1, 3, 224, 224) # (B,C,H,W)\n",
    "patch_embed = PatchEmbed( 224, 224)\n",
    "\n",
    "embedded_patches = patch_embed(image_tensor)\n",
    "\n",
    "print(\"Shape of the output from PatchEmbed:\", embedded_patches.shape)"
   ]
  },
  {
   "cell_type": "code",
   "execution_count": 144,
   "metadata": {},
   "outputs": [
    {
     "name": "stdout",
     "output_type": "stream",
     "text": [
      "150528 19600\n"
     ]
    }
   ],
   "source": [
    "H = 224\n",
    "W = 224\n",
    "c = 3\n",
    "p = 16\n",
    "d = 100\n",
    "\n",
    "input_size = H * W * c\n",
    "output_size = (H * W // p ** 2) * d\n",
    "\n",
    "print(input_size, output_size)"
   ]
  },
  {
   "cell_type": "code",
   "execution_count": null,
   "metadata": {},
   "outputs": [],
   "source": []
  }
 ],
 "metadata": {
  "kernelspec": {
   "display_name": "llm_env",
   "language": "python",
   "name": "python3"
  },
  "language_info": {
   "codemirror_mode": {
    "name": "ipython",
    "version": 3
   },
   "file_extension": ".py",
   "mimetype": "text/x-python",
   "name": "python",
   "nbconvert_exporter": "python",
   "pygments_lexer": "ipython3",
   "version": "3.12.2"
  }
 },
 "nbformat": 4,
 "nbformat_minor": 2
}
