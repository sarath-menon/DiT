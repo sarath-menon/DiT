{
 "cells": [
  {
   "cell_type": "code",
   "execution_count": 35,
   "metadata": {},
   "outputs": [],
   "source": [
    "import torch as th\n",
    "import numpy as np\n",
    "from scheduler import GaussianDiffusion \n",
    "from dataclasses import dataclass\n",
    "from torch.utils.data import DataLoader\n",
    "from torchvision.datasets import ImageFolder\n",
    "from torchvision import datasets, transforms"
   ]
  },
  {
   "cell_type": "code",
   "execution_count": 114,
   "metadata": {},
   "outputs": [],
   "source": [
    "@dataclass\n",
    "class TrainConfig:\n",
    "    image_size: int = 28 # cifar10\n",
    "    num_epochs: int = 10000\n",
    "    eval_iters: int = 200\n",
    "    eval_interval: int = 100\n",
    "    batch_size: int = 32 \n",
    "    diffusion_steps = 300\n",
    "    n_sampling_steps = 300\n",
    "    lr: float = 1e-3\n",
    "\n",
    "train_cfg = TrainConfig()\n",
    "device = \"cuda\" if th.cuda.is_available() else \"cpu\"\n",
    "\n",
    "# setup diffusion transformer\n",
    "dit_cfg = DiTConfig(input_size=train_cfg.image_size,n_heads=4, n_layers=3, in_chans=1, patch_size=14)\n",
    "model = DiT(dit_cfg)\n",
    "model.train();  # important! "
   ]
  },
  {
   "cell_type": "markdown",
   "metadata": {},
   "source": [
    "### Setup dataset"
   ]
  },
  {
   "cell_type": "code",
   "execution_count": 115,
   "metadata": {},
   "outputs": [],
   "source": [
    "transform = transforms.Compose([\n",
    "    transforms.ToTensor(),\n",
    "    transforms.Normalize(mean=[0.5], std=[0.5], inplace=True)\n",
    "])\n",
    "\n",
    "train_dataset  = datasets.FashionMNIST(root='./dataset', train=True, download=True, transform=transform)\n",
    "trainloader = th.utils.data.DataLoader(train_dataset, batch_size=train_cfg.batch_size,shuffle=True)"
   ]
  },
  {
   "cell_type": "markdown",
   "metadata": {},
   "source": [
    "### DIffusion process"
   ]
  },
  {
   "cell_type": "code",
   "execution_count": 116,
   "metadata": {},
   "outputs": [
    {
     "name": "stdout",
     "output_type": "stream",
     "text": [
      "tensor([260, 152, 256, 239,  68,  60,  91, 165, 201,  55, 136, 223, 222, 204,\n",
      "        238, 222,  82, 212, 192, 114,  83,  55, 134, 262, 165,  92,  77, 124,\n",
      "        143, 194,  41,   8])\n"
     ]
    }
   ],
   "source": [
    "imgs = None\n",
    "B = 32\n",
    "\n",
    "x, y = next(iter(trainloader))\n",
    "\n",
    "x = x.to(device) \n",
    "y = y.to(device)\n",
    "\n",
    "# Generate random timesteps for each image latent\n",
    "t = th.randint(0, train_cfg.diffusion_steps, (train_cfg.batch_size,), device=device)\n",
    "print(t)\n",
    "\n",
    "# add noise\n",
    "noise = th.randn_like(x) #ground truth noise\n",
    "a = th.sqrt(gd.alpha_prod)[t].reshape(B,1,1,1)\n",
    "b = th.sqrt(1- gd.alpha_prod)[t].reshape(B,1,1,1)\n",
    "\n",
    "x_t = a*x+ b*noise"
   ]
  },
  {
   "cell_type": "code",
   "execution_count": 117,
   "metadata": {},
   "outputs": [
    {
     "data": {
      "image/png": "[encoded data removed]",
      "text/plain": [
       "<Figure size 640x480 with 2 Axes>"
      ]
     },
     "metadata": {},
     "output_type": "display_data"
    }
   ],
   "source": [
    "import matplotlib.pyplot as plt\n",
    "\n",
    "id = np.random.randint(1, B)\n",
    "\n",
    "# Plot the noisy image\n",
    "x_t_img = x_t[id].squeeze().clone()\n",
    "x_img = x[id].squeeze().clone()\n",
    "\n",
    "fig, axs = plt.subplots(1, 2)\n",
    "fig.suptitle(f' Timestep: {t[id].item()}')\n",
    "axs[0].imshow(x_img, cmap='gray')\n",
    "axs[0].axis('off')\n",
    "axs[0].set_title('Original Image')\n",
    "axs[1].imshow(x_t_img, cmap='gray')\n",
    "axs[1].axis('off')\n",
    "axs[1].set_title('Noisy Image')\n",
    "plt.axis('off')\n",
    "plt.show()"
   ]
  },
  {
   "cell_type": "code",
   "execution_count": null,
   "metadata": {},
   "outputs": [],
   "source": []
  },
  {
   "cell_type": "code",
   "execution_count": null,
   "metadata": {},
   "outputs": [],
   "source": []
  }
 ],
 "metadata": {
  "kernelspec": {
   "display_name": "llm_env",
   "language": "python",
   "name": "python3"
  },
  "language_info": {
   "codemirror_mode": {
    "name": "ipython",
    "version": 3
   },
   "file_extension": ".py",
   "mimetype": "text/x-python",
   "name": "python",
   "nbconvert_exporter": "python",
   "pygments_lexer": "ipython3",
   "version": "3.12.3"
  }
 },
 "nbformat": 4,
 "nbformat_minor": 2
}
